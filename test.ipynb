{
 "cells": [
  {
   "cell_type": "code",
   "execution_count": 24,
   "metadata": {},
   "outputs": [],
   "source": [
    "import torch\n",
    "import torch.nn as nn\n",
    "import sys\n",
    "from config import input_size, proposalN, channels\n",
    "from utils.read_dataset import read_dataset\n",
    "from utils.auto_laod_resume import auto_load_resume\n",
    "from networks.model import MainNet\n",
    "from torchvision import transforms\n",
    "\n",
    "import os\n",
    "\n",
    "os.environ['CUDA_VISIBLE_DEVICES'] = '0'"
   ]
  },
  {
   "cell_type": "code",
   "execution_count": 25,
   "metadata": {},
   "outputs": [],
   "source": [
    "DEVICE = torch.device(\"cpu\")\n"
   ]
  },
  {
   "cell_type": "code",
   "execution_count": 26,
   "metadata": {},
   "outputs": [],
   "source": [
    "root = './datasets/FGVC-aircraft'  # dataset path\n",
    "# model path\n",
    "pth_path = \"./models/air_epoch146.pth\"\n",
    "num_classes = 100\n",
    "\n",
    "batch_size = 10"
   ]
  },
  {
   "cell_type": "code",
   "execution_count": 27,
   "metadata": {},
   "outputs": [
    {
     "name": "stdout",
     "output_type": "stream",
     "text": [
      "Loading Aircraft trainset\n",
      "Loading Aircraft testset\n"
     ]
    }
   ],
   "source": [
    "_, testloader = read_dataset(input_size, batch_size, root, \"Aircraft\")"
   ]
  },
  {
   "cell_type": "code",
   "execution_count": 28,
   "metadata": {},
   "outputs": [],
   "source": [
    "model = MainNet(proposalN=proposalN, num_classes=num_classes, channels=channels)"
   ]
  },
  {
   "cell_type": "code",
   "execution_count": 29,
   "metadata": {},
   "outputs": [],
   "source": [
    "model = model.to(DEVICE)\n",
    "criterion = nn.CrossEntropyLoss()"
   ]
  },
  {
   "cell_type": "code",
   "execution_count": 30,
   "metadata": {},
   "outputs": [
    {
     "name": "stdout",
     "output_type": "stream",
     "text": [
      "Load model from ./models/air_epoch146.pth\n",
      "Resume from ./models/air_epoch146.pth\n"
     ]
    }
   ],
   "source": [
    "if os.path.exists(pth_path):\n",
    "    epoch = auto_load_resume(model, pth_path, status='test')\n",
    "else:\n",
    "    sys.exit('There is not a pth exist.')"
   ]
  },
  {
   "cell_type": "code",
   "execution_count": 31,
   "metadata": {},
   "outputs": [
    {
     "name": "stdout",
     "output_type": "stream",
     "text": [
      "{0: '707-320', 1: '727-200', 2: '737-200', 3: '737-300', 4: '737-400', 5: '737-500', 6: '737-600', 7: '737-700', 8: '737-800', 9: '737-900', 10: '747-100', 11: '747-200', 12: '747-300', 13: '747-400', 14: '757-200', 15: '757-300', 16: '767-200', 17: '767-300', 18: '767-400', 19: '777-200', 20: '777-300', 21: 'A300B4', 22: 'A310', 23: 'A318', 24: 'A319', 25: 'A320', 26: 'A321', 27: 'A330-200', 28: 'A330-300', 29: 'A340-200', 30: 'A340-300', 31: 'A340-500', 32: 'A340-600', 33: 'A380', 34: 'ATR-42', 35: 'ATR-72', 36: 'An-12', 37: 'BAE 146-200', 38: 'BAE 146-300', 39: 'BAE-125', 40: 'Beechcraft 1900', 41: 'Boeing 717', 42: 'C-130', 43: 'C-47', 44: 'CRJ-200', 45: 'CRJ-700', 46: 'CRJ-900', 47: 'Cessna 172', 48: 'Cessna 208', 49: 'Cessna 525', 50: 'Cessna 560', 51: 'Challenger 600', 52: 'DC-10', 53: 'DC-3', 54: 'DC-6', 55: 'DC-8', 56: 'DC-9-30', 57: 'DH-82', 58: 'DHC-1', 59: 'DHC-6', 60: 'DHC-8-100', 61: 'DHC-8-300', 62: 'DR-400', 63: 'Dornier 328', 64: 'E-170', 65: 'E-190', 66: 'E-195', 67: 'EMB-120', 68: 'ERJ 135', 69: 'ERJ 145', 70: 'Embraer Legacy 600', 71: 'Eurofighter Typhoon', 72: 'F-16A/B', 73: 'F/A-18', 74: 'Falcon 2000', 75: 'Falcon 900', 76: 'Fokker 100', 77: 'Fokker 50', 78: 'Fokker 70', 79: 'Global Express', 80: 'Gulfstream IV', 81: 'Gulfstream V', 82: 'Hawk T1', 83: 'Il-76', 84: 'L-1011', 85: 'MD-11', 86: 'MD-80', 87: 'MD-87', 88: 'MD-90', 89: 'Metroliner', 90: 'Model B200', 91: 'PA-28', 92: 'SR-20', 93: 'Saab 2000', 94: 'Saab 340', 95: 'Spitfire', 96: 'Tornado', 97: 'Tu-134', 98: 'Tu-154', 99: 'Yak-42'}\n",
      "1376815\n"
     ]
    }
   ],
   "source": [
    "# 이미지 ID와 파일명 매핑\n",
    "images = {idx: path.split(\"/\")[-1].split(\".\")[0] for path, idx in testloader.dataset.test_img_label}\n",
    "\n",
    "# 이미지 라벨 읽기\n",
    "with open(\"image_label.txt\", \"r\") as f:\n",
    "    labels = {}\n",
    "    for line in f:\n",
    "        parts = line.strip().split()\n",
    "        labels[parts[0]] = ' '.join(parts[1:])\n",
    "\n",
    "# 실제 라벨 매핑\n",
    "real = {idx: labels[path] for idx, path in images.items() if path in labels}\n",
    "\n",
    "# 결과 출력\n",
    "print(real)\n",
    "print(images[19])"
   ]
  },
  {
   "cell_type": "code",
   "execution_count": 32,
   "metadata": {},
   "outputs": [
    {
     "name": "stdout",
     "output_type": "stream",
     "text": [
      "33 A380\n"
     ]
    }
   ],
   "source": [
    "import imageio\n",
    "import numpy as np\n",
    "from PIL import Image\n",
    "\n",
    "def preprocess_image(img):\n",
    "    if len(img.shape) == 2:\n",
    "        img = np.stack([img] * 3, 2)\n",
    "    img = Image.fromarray(img, mode='RGB')\n",
    "    img = transforms.Resize((448, 448), Image.BILINEAR)(img)\n",
    "    img = transforms.ToTensor()(img)\n",
    "    img = transforms.Normalize([0.485, 0.456, 0.406], [0.229, 0.224, 0.225])(img)\n",
    "    img = img.unsqueeze(0)\n",
    "    return img\n",
    "\n",
    "img = preprocess_image(imageio.imread(\"image.png\"))\n",
    "\n",
    "model.eval()\n",
    "\n",
    "with torch.no_grad():\n",
    "    output = model(img, None, None, \"test\", \"cpu\")[-2:]\n",
    "    pred = output[0].max(1, keepdim=True)[1]\n",
    "    print(pred.numpy()[0][0], real[pred.numpy()[0][0]])"
   ]
  }
 ],
 "metadata": {
  "kernelspec": {
   "display_name": ".venv",
   "language": "python",
   "name": "python3"
  },
  "language_info": {
   "codemirror_mode": {
    "name": "ipython",
    "version": 3
   },
   "file_extension": ".py",
   "mimetype": "text/x-python",
   "name": "python",
   "nbconvert_exporter": "python",
   "pygments_lexer": "ipython3",
   "version": "3.7.16"
  }
 },
 "nbformat": 4,
 "nbformat_minor": 2
}
