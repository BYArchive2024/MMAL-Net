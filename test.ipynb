{
 "cells": [
  {
   "cell_type": "code",
   "execution_count": 46,
   "metadata": {},
   "outputs": [],
   "source": [
    "import torch\n",
    "import torch.nn as nn\n",
    "import sys\n",
    "from config import input_size, proposalN, channels\n",
    "from utils.read_dataset import read_dataset\n",
    "from utils.auto_laod_resume import auto_load_resume\n",
    "from networks.model import MainNet\n",
    "from torchvision import transforms\n",
    "import json\n",
    "import imageio\n",
    "import numpy as np\n",
    "from PIL import Image\n",
    "\n",
    "import os\n",
    "\n",
    "os.environ['CUDA_VISIBLE_DEVICES'] = '0'"
   ]
  },
  {
   "cell_type": "code",
   "execution_count": 47,
   "metadata": {},
   "outputs": [],
   "source": [
    "DEVICE = torch.device(\"cpu\")\n"
   ]
  },
  {
   "cell_type": "code",
   "execution_count": 48,
   "metadata": {},
   "outputs": [],
   "source": [
    "root = './datasets/FGVC-aircraft'  # dataset path\n",
    "# model path\n",
    "pth_path = \"./models/air_epoch146.pth\"\n",
    "num_classes = 100\n",
    "\n",
    "batch_size = 10"
   ]
  },
  {
   "cell_type": "code",
   "execution_count": 49,
   "metadata": {},
   "outputs": [
    {
     "name": "stdout",
     "output_type": "stream",
     "text": [
      "Loading Aircraft trainset\n",
      "Loading Aircraft testset\n"
     ]
    }
   ],
   "source": [
    "_, testloader = read_dataset(input_size, batch_size, root, \"Aircraft\")"
   ]
  },
  {
   "cell_type": "code",
   "execution_count": 50,
   "metadata": {},
   "outputs": [],
   "source": [
    "model = MainNet(proposalN=proposalN, num_classes=num_classes, channels=channels)"
   ]
  },
  {
   "cell_type": "code",
   "execution_count": 51,
   "metadata": {},
   "outputs": [],
   "source": [
    "model = model.to(DEVICE)\n",
    "criterion = nn.CrossEntropyLoss()"
   ]
  },
  {
   "cell_type": "code",
   "execution_count": 52,
   "metadata": {},
   "outputs": [
    {
     "name": "stdout",
     "output_type": "stream",
     "text": [
      "Load model from ./models/air_epoch146.pth\n",
      "Resume from ./models/air_epoch146.pth\n"
     ]
    }
   ],
   "source": [
    "if os.path.exists(pth_path):\n",
    "    epoch = auto_load_resume(model, pth_path, status='test')\n",
    "else:\n",
    "    sys.exit('There is not a pth exist.')"
   ]
  },
  {
   "cell_type": "code",
   "execution_count": 53,
   "metadata": {},
   "outputs": [],
   "source": [
    "with open('id_label.json', 'r') as f:\n",
    "    id_label_data = json.load(f)\n",
    "\n",
    "id_label = {int(k): v for k, v in id_label_data.items()}"
   ]
  },
  {
   "cell_type": "code",
   "execution_count": 54,
   "metadata": {},
   "outputs": [
    {
     "name": "stdout",
     "output_type": "stream",
     "text": [
      "33 A380\n"
     ]
    }
   ],
   "source": [
    "def preprocess_image(img):\n",
    "    if len(img.shape) == 2:\n",
    "        img = np.stack([img] * 3, 2)\n",
    "    img = Image.fromarray(img, mode='RGB')\n",
    "    img = transforms.Resize((448, 448), Image.BILINEAR)(img)\n",
    "    img = transforms.ToTensor()(img)\n",
    "    img = transforms.Normalize([0.485, 0.456, 0.406], [0.229, 0.224, 0.225])(img)\n",
    "    img = img.unsqueeze(0)\n",
    "    return img\n",
    "\n",
    "img = preprocess_image(imageio.imread(\"image.png\"))\n",
    "\n",
    "model.eval()\n",
    "\n",
    "with torch.no_grad():\n",
    "    output = model(img, None, None, \"test\", \"cpu\")[-2:]\n",
    "    pred = output[0].max(1, keepdim=True)[1]\n",
    "    print(pred.numpy()[0][0], id_label[pred.numpy()[0][0]])"
   ]
  }
 ],
 "metadata": {
  "kernelspec": {
   "display_name": ".venv",
   "language": "python",
   "name": "python3"
  },
  "language_info": {
   "codemirror_mode": {
    "name": "ipython",
    "version": 3
   },
   "file_extension": ".py",
   "mimetype": "text/x-python",
   "name": "python",
   "nbconvert_exporter": "python",
   "pygments_lexer": "ipython3",
   "version": "3.7.16"
  }
 },
 "nbformat": 4,
 "nbformat_minor": 2
}
